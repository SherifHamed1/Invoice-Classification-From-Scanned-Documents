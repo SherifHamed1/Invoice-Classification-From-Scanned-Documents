{
 "cells": [
  {
   "cell_type": "markdown",
   "id": "121c27b8",
   "metadata": {},
   "source": [
    "# Invoice Classification From Scanned Documents"
   ]
  },
  {
   "cell_type": "code",
   "execution_count": null,
   "id": "92d7f7ae",
   "metadata": {},
   "outputs": [],
   "source": []
  }
 ],
 "metadata": {
  "language_info": {
   "name": "python"
  }
 },
 "nbformat": 4,
 "nbformat_minor": 5
}
